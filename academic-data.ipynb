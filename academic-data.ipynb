{
 "cells": [
  {
   "cell_type": "code",
   "execution_count": 8,
   "id": "30345b47",
   "metadata": {},
   "outputs": [],
   "source": [
    "#import necessary libaries\n",
    "import pandas as pd\n",
    "import matplotlib"
   ]
  },
  {
   "cell_type": "code",
   "execution_count": 11,
   "id": "87db6b00",
   "metadata": {},
   "outputs": [],
   "source": [
    "file = '321_3_v1.csv'"
   ]
  },
  {
   "cell_type": "code",
   "execution_count": 13,
   "id": "b08fa089",
   "metadata": {},
   "outputs": [
    {
     "name": "stdout",
     "output_type": "stream",
     "text": [
      "   Site_Nid                      Site_Name  Conc_Nid  \\\n",
      "0     34200                Amazon Mainstem     34202   \n",
      "1     34201               Amazon Tributary     34203   \n",
      "2     34207                  Potomac River     34208   \n",
      "3     34210                 River Lambourn     34211   \n",
      "4     34214  Humber Catchment, River Trent     34216   \n",
      "\n",
      "               Concentration_Name Aggregated_Space Aggregated_Time  \\\n",
      "0                 Amazon Mainstem              Yes             Yes   \n",
      "1                Amazon Tributary              Yes             Yes   \n",
      "2              Potomac River 1968              Yes              No   \n",
      "3                  River Lambourn               No             Yes   \n",
      "4  Humber Catchement, River Trent               No              No   \n",
      "\n",
      "   Concentration_Max  Concentration_Min  Concentration_Mean  StDev_mean  ...  \\\n",
      "0               0.20              0.010               0.053       0.091  ...   \n",
      "1               0.40              0.020                 NaN         NaN  ...   \n",
      "2               0.35              0.056                 NaN         NaN  ...   \n",
      "3                NaN                NaN             162.000      40.000  ...   \n",
      "4                NaN                NaN              33.000       1.000  ...   \n",
      "\n",
      "   concmean_uM stddevmean_uM  concmed_uM NO3_actual_uM NH4_actual_uM  \\\n",
      "0        0.053         0.091        0.04           NaN           NaN   \n",
      "1          NaN           NaN        0.04           NaN           NaN   \n",
      "2          NaN           NaN         NaN           NaN           NaN   \n",
      "3        0.162         0.040         NaN           NaN           NaN   \n",
      "4        0.033         0.001         NaN           NaN           NaN   \n",
      "\n",
      "  TN_actual_uM  SRP_actual_uM  TP_actual_uM  DOC_actual_uM  \\\n",
      "0          NaN            NaN           NaN            NaN   \n",
      "1          NaN            NaN           NaN            NaN   \n",
      "2          NaN            NaN           NaN            NaN   \n",
      "3          NaN            NaN           NaN            NaN   \n",
      "4          NaN            NaN           NaN            NaN   \n",
      "\n",
      "                                            Comments  \n",
      "0                                                NaN  \n",
      "1  Sample count calculated by multiplying 9 sampl...  \n",
      "2  Data extracted from Fig. 2; difficult to inter...  \n",
      "3  sampling occurred on 6 discrete dates between ...  \n",
      "4                                                NaN  \n",
      "\n",
      "[5 rows x 42 columns]\n"
     ]
    }
   ],
   "source": [
    "df = pd.read_csv(file, low_memory=False,encoding='latin1')\n",
    "print(df.head())"
   ]
  },
  {
   "cell_type": "code",
   "execution_count": 14,
   "id": "cadd2c42",
   "metadata": {},
   "outputs": [
    {
     "name": "stdout",
     "output_type": "stream",
     "text": [
      "['Site_Nid', 'Site_Name', 'Conc_Nid', 'Concentration_Name', 'Aggregated_Space', 'Aggregated_Time', 'Concentration_Max', 'Concentration_Min', 'Concentration_Mean', 'StDev_mean', 'Concentration_Median', 'Concentration_Unit', 'Sample_Count', 'Sample_Date', 'Sample_Date_1', 'Sample_Season', 'WaterTemp_actual', 'WaterTemp_est', 'NO3', 'NO3units', 'NH4', 'NH4units', 'TN', 'TNunits', 'SRP', 'SRPunits', 'TP', 'TPunits', 'DOC', 'DOCunits', 'concmax_uM', 'concmin_uM', 'concmean_uM', 'stddevmean_uM', 'concmed_uM', 'NO3_actual_uM', 'NH4_actual_uM', 'TN_actual_uM', 'SRP_actual_uM', 'TP_actual_uM', 'DOC_actual_uM', 'Comments']\n",
      "1496\n",
      "42\n"
     ]
    }
   ],
   "source": [
    "print(list(df))\n",
    "print(len(df))\n",
    "print(len(list(df)))"
   ]
  },
  {
   "cell_type": "code",
   "execution_count": 16,
   "id": "dc7289a9",
   "metadata": {},
   "outputs": [
    {
     "name": "stdout",
     "output_type": "stream",
     "text": [
      "1075.9001786985525\n",
      "115.1\n",
      "7377.153853521182\n"
     ]
    }
   ],
   "source": [
    "quant_col = 'Concentration_Mean'\n",
    "mean = df[quant_col].mean()\n",
    "print(mean)\n",
    "\n",
    "median = df[quant_col].median()\n",
    "print(median)\n",
    "\n",
    "standard_deviation = df[quant_col].std()\n",
    "print(standard_deviation)"
   ]
  }
 ],
 "metadata": {
  "kernelspec": {
   "display_name": "Python 3 (ipykernel)",
   "language": "python",
   "name": "python3"
  },
  "language_info": {
   "codemirror_mode": {
    "name": "ipython",
    "version": 3
   },
   "file_extension": ".py",
   "mimetype": "text/x-python",
   "name": "python",
   "nbconvert_exporter": "python",
   "pygments_lexer": "ipython3",
   "version": "3.9.12"
  }
 },
 "nbformat": 4,
 "nbformat_minor": 5
}
